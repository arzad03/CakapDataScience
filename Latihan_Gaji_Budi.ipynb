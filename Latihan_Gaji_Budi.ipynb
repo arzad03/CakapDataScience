{
  "nbformat": 4,
  "nbformat_minor": 0,
  "metadata": {
    "colab": {
      "provenance": [],
      "authorship_tag": "ABX9TyOwrJ77052zWdK3f1hKgapW",
      "include_colab_link": true
    },
    "kernelspec": {
      "name": "python3",
      "display_name": "Python 3"
    },
    "language_info": {
      "name": "python"
    }
  },
  "cells": [
    {
      "cell_type": "markdown",
      "metadata": {
        "id": "view-in-github",
        "colab_type": "text"
      },
      "source": [
        "<a href=\"https://colab.research.google.com/github/arzad03/CakapDataScience/blob/main/Latihan_Gaji_Budi.ipynb\" target=\"_parent\"><img src=\"https://colab.research.google.com/assets/colab-badge.svg\" alt=\"Open In Colab\"/></a>"
      ]
    },
    {
      "cell_type": "markdown",
      "source": [
        "Budi tertarik melamar pekerjaan pada liburan semester yang akan berlangsung selama 5 minggu. Gaji yang diberikan adalah gaji per jam. Total pajak yang harus budi bayarkan dari penghasilannya selama bekerja adalah 14%. Setelah membayar pajak, budi menghabiskan 10% dari pendapatan bersihnya untuk membeli baju dan aksesoris yang akan digunakan pada semester baru, dan 1% untuk membeli alat tulis. Setelah membeli baju, aksesoris dan alat tulis, Budi menggunakan 25% dari sisa uangnya untuk disedekahkan. Setiap Rp. 1000 yang Budi sedekahkan 30% nya akan diserahkan kepada anak yatim, dan sisanya akan diserahkan ke kaum dhuafa."
      ],
      "metadata": {
        "id": "CpO9-jxOOH-k"
      }
    },
    {
      "cell_type": "markdown",
      "source": [
        "**Latihan**"
      ],
      "metadata": {
        "id": "NAasguxtOX2y"
      }
    },
    {
      "cell_type": "code",
      "source": [
        "#Meminta input nilai gaji per jam\n",
        "gaji_per_jam = float(input(\"Masukkan gaji per jam Budi: \"))"
      ],
      "metadata": {
        "colab": {
          "base_uri": "https://localhost:8080/"
        },
        "id": "5D6TJwskOifK",
        "outputId": "d84982a1-d758-4390-e86a-876c4b580944"
      },
      "execution_count": 15,
      "outputs": [
        {
          "name": "stdout",
          "output_type": "stream",
          "text": [
            "Masukkan gaji per jam Budi: 100000\n"
          ]
        }
      ]
    },
    {
      "cell_type": "code",
      "source": [
        "#Variabel yang sibutuhkan\n",
        "jam_kerja_per_minggu = 40  # misal Budi bekerja 40 jam per minggu\n",
        "jumlah_minggu = 5  # Durasi kerja 5 minggu\n",
        "pajak_persen = 0.14  # Pajak 14%\n",
        "pakaian_aksesoris_persen = 0.10  # 10% untuk pakaian dan aksesori\n",
        "alat_tulis_persen = 0.01  # 1% untuk alat tulis\n",
        "sedekah_persen = 0.25  # 25% untuk disedekahkan\n",
        "anak_yatim_persen = 0.30  # 30% dari sedekah_persen untuk anak yatim"
      ],
      "metadata": {
        "id": "KngS5iGTO1nJ"
      },
      "execution_count": 16,
      "outputs": []
    },
    {
      "cell_type": "markdown",
      "source": [
        "1. Pendapatan budi selama libut musim panas sebelum melakukan pembayaran pajak"
      ],
      "metadata": {
        "id": "BUaUrP0HOc8W"
      }
    },
    {
      "cell_type": "code",
      "source": [
        "pendapatan_sebelum_pajak = gaji_per_jam * jam_kerja_per_minggu * jumlah_minggu\n",
        "print(\"Pendapatan sebelum pajak:\", pendapatan_sebelum_pajak)"
      ],
      "metadata": {
        "colab": {
          "base_uri": "https://localhost:8080/"
        },
        "id": "TlHeFALLPYgz",
        "outputId": "f56d5f12-2986-4cdb-d749-67ec58be30bb"
      },
      "execution_count": 17,
      "outputs": [
        {
          "output_type": "stream",
          "name": "stdout",
          "text": [
            "Pendapatan sebelum pajak: 20000000.0\n"
          ]
        }
      ]
    },
    {
      "cell_type": "markdown",
      "source": [
        "2. Pendapatan Budi selama libur musim panas setelah melakukan pembayaran pajak"
      ],
      "metadata": {
        "id": "xClHcqjtPiYn"
      }
    },
    {
      "cell_type": "code",
      "source": [
        "pendapatan_setelah_pajak = pendapatan_sebelum_pajak * (1 - pajak_persen)\n",
        "print(\"Pendapatan setelah pajak: \", pendapatan_setelah_pajak)"
      ],
      "metadata": {
        "colab": {
          "base_uri": "https://localhost:8080/"
        },
        "id": "59sJYly_Pbdj",
        "outputId": "2b006453-fecc-4a9b-8887-645bbeac2f6e"
      },
      "execution_count": 18,
      "outputs": [
        {
          "output_type": "stream",
          "name": "stdout",
          "text": [
            "Pendapatan setelah pajak:  17200000.0\n"
          ]
        }
      ]
    },
    {
      "cell_type": "markdown",
      "source": [
        "3. Jumlah uang yang akan Budi habiskan untuk memberi pakaian dan aksesoris"
      ],
      "metadata": {
        "id": "83iLHfrOP6nv"
      }
    },
    {
      "cell_type": "code",
      "source": [
        "uang_pakaian_aksesoris = pendapatan_setelah_pajak * pakaian_aksesoris_persen\n",
        "print(\"Uang untuk membeli pakaian dan aksesoris: \", uang_pakaian_aksesoris)"
      ],
      "metadata": {
        "colab": {
          "base_uri": "https://localhost:8080/"
        },
        "id": "4DG3TvN1P_Y1",
        "outputId": "0d15fca3-ccf0-438d-e933-888a363af82c"
      },
      "execution_count": 19,
      "outputs": [
        {
          "output_type": "stream",
          "name": "stdout",
          "text": [
            "Uang untuk membeli pakaian dan aksesoris:  1720000.0\n"
          ]
        }
      ]
    },
    {
      "cell_type": "markdown",
      "source": [
        "4. Jumlah uang yang akna Budi habiskan utnuk membeli alat tulis."
      ],
      "metadata": {
        "id": "1GVgtVOnP-1X"
      }
    },
    {
      "cell_type": "code",
      "source": [
        "uang_alat_tulis = pendapatan_setelah_pajak * alat_tulis_persen\n",
        "print(\"Uang untuk membeli alat tulis: \", uang_alat_tulis)"
      ],
      "metadata": {
        "colab": {
          "base_uri": "https://localhost:8080/"
        },
        "id": "AYZmH1NxP0ua",
        "outputId": "c7f494e1-0373-46fa-c27d-6df86f7dcc16"
      },
      "execution_count": 20,
      "outputs": [
        {
          "output_type": "stream",
          "name": "stdout",
          "text": [
            "Uang untuk membeli alat tulis:  172000.0\n"
          ]
        }
      ]
    },
    {
      "cell_type": "markdown",
      "source": [
        "5. Jumlah uang yang akan Budi sedekahkan"
      ],
      "metadata": {
        "id": "-4wm2mtdQD0v"
      }
    },
    {
      "cell_type": "code",
      "source": [
        "#Sisa uang\n",
        "sisa_uang = pendapatan_setelah_pajak - (uang_pakaian_aksesoris + uang_alat_tulis)\n",
        "print(\"Sisa uang setelah membeli pakaian dan aksesoris dan alat tulis: \", sisa_uang)\n",
        "\n",
        "#Sedekah\n",
        "uang_sedekah = sisa_uang * sedekah_persen\n",
        "print(\"\\nUang yang akan disedekahkan: \", uang_sedekah)"
      ],
      "metadata": {
        "colab": {
          "base_uri": "https://localhost:8080/"
        },
        "id": "87jbOJgcQG2G",
        "outputId": "37208711-0c82-42ad-810f-8529338dea0c"
      },
      "execution_count": 21,
      "outputs": [
        {
          "output_type": "stream",
          "name": "stdout",
          "text": [
            "Sisa uang setelah membeli pakaian dan aksesoris dan alat tulis:  15308000.0\n",
            "\n",
            "Uang yang akan disedekahkan:  3827000.0\n"
          ]
        }
      ]
    },
    {
      "cell_type": "markdown",
      "source": [
        "6. Jumlah uang yang akan diterima anak yatim"
      ],
      "metadata": {
        "id": "tKugFNngQHiG"
      }
    },
    {
      "cell_type": "code",
      "source": [
        "uang_anak_yatim = uang_sedekah * anak_yatim_persen\n",
        "print(\"Uang yang akan diterima anak yatim: \", uang_anak_yatim)"
      ],
      "metadata": {
        "colab": {
          "base_uri": "https://localhost:8080/"
        },
        "id": "dNZi_Mz7QL10",
        "outputId": "88609e81-78cf-47a6-bbee-b3ec3c764472"
      },
      "execution_count": 22,
      "outputs": [
        {
          "output_type": "stream",
          "name": "stdout",
          "text": [
            "Uang yang akan diterima anak yatim:  1148100.0\n"
          ]
        }
      ]
    },
    {
      "cell_type": "markdown",
      "source": [
        "7. Jumlah uang yang akan iterma kaum dhuafa"
      ],
      "metadata": {
        "id": "Gwa-NoDqQMtL"
      }
    },
    {
      "cell_type": "code",
      "source": [
        "uang_kaum_dhuafa = uang_sedekah * (1 - anak_yatim_persen)\n",
        "print(\"Uang yang akan diterima kaum dhuafa: \", uang_kaum_dhuafa)"
      ],
      "metadata": {
        "colab": {
          "base_uri": "https://localhost:8080/"
        },
        "id": "U_ctoZbOQPbA",
        "outputId": "e53089a5-4abc-4d46-f271-88cb8d3c6d1f"
      },
      "execution_count": 23,
      "outputs": [
        {
          "output_type": "stream",
          "name": "stdout",
          "text": [
            "Uang yang akan diterima kaum dhuafa:  2678900.0\n"
          ]
        }
      ]
    },
    {
      "cell_type": "code",
      "source": [],
      "metadata": {
        "id": "OMk_vPzVQ-un"
      },
      "execution_count": 23,
      "outputs": []
    }
  ]
}